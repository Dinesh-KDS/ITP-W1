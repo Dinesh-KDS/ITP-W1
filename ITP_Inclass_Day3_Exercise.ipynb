{
 "cells": [
  {
   "cell_type": "markdown",
   "metadata": {
    "id": "eXWCZeS1QB7O"
   },
   "source": [
    "<table align=\"center\" width=100%>\n",
    "    <tr>\n",
    "        <td width=\"20%\">\n",
    "            <img src=\"in_class.png\">\n",
    "        </td>\n",
    "        <td>\n",
    "            <div align=\"center\">\n",
    "                <font color=\"#21618C\" size=8px>\n",
    "                    <b> Inclass-Lab<br>(Day 3)\n",
    "                    </b>\n",
    "                </font>\n",
    "            </div>\n",
    "        </td>\n",
    "        <td width=\"25%\">\n",
    "            <img src=\"NEW_GL_Logo.png\">\n",
    "        </td>\n",
    "    </tr>\n",
    "</table>"
   ]
  },
  {
   "cell_type": "markdown",
   "metadata": {
    "id": "5bmg2LEpQB7R"
   },
   "source": [
    "## Table of Content\n",
    "\n",
    "1. **[Set](#set)**\n",
    "2. **[Conditional Statements](#cond)**\n",
    "3. **[Python Flow Control](#flow_control)**\n",
    "\n",
    "\n"
   ]
  },
  {
   "cell_type": "markdown",
   "metadata": {
    "id": "Rv5-hzWOQB7R"
   },
   "source": [
    "### Let's begin with some hands-on practice exercises"
   ]
  },
  {
   "cell_type": "markdown",
   "metadata": {},
   "source": [
    "<a id=\"set\"> </a>\n",
    "## 1. Set"
   ]
  },
  {
   "cell_type": "markdown",
   "metadata": {},
   "source": [
    "<table align=\"left\">\n",
    "    <tr>\n",
    "        <td width=\"6%\">\n",
    "            <img src=\"question_icon.png\">\n",
    "        </td>\n",
    "        <td>\n",
    "            <div align=\"left\", style=\"font-size:120%\">\n",
    "                <font color=\"#21618C\">\n",
    "                    <b>1. Write the program to perform following manipulations:<br><br>\n",
    "                        a. Add '7' to the given set<br>\n",
    "                        b. Remove '3' from a given set<br>\n",
    "                        c. Clear the set\n",
    "                    </b>\n",
    "                </font>\n",
    "            </div>\n",
    "        </td>\n",
    "    </tr>\n",
    "</table>"
   ]
  },
  {
   "cell_type": "markdown",
   "metadata": {},
   "source": [
    "**Use the below set for manipulation**\n",
    "\n",
    "num_set = {1, 2, 3, 4, 5, 6}"
   ]
  },
  {
   "cell_type": "code",
   "execution_count": 49,
   "metadata": {},
   "outputs": [
    {
     "data": {
      "text/plain": [
       "{1, 2, 3, 4, 5, 6, 7}"
      ]
     },
     "execution_count": 49,
     "metadata": {},
     "output_type": "execute_result"
    }
   ],
   "source": [
    "num_set = {1, 2, 3, 4, 5, 6}\n",
    "\n",
    "num_set.add(7)\n",
    "num_set"
   ]
  },
  {
   "cell_type": "code",
   "execution_count": 50,
   "metadata": {},
   "outputs": [
    {
     "data": {
      "text/plain": [
       "{1, 2, 4, 5, 6, 7}"
      ]
     },
     "execution_count": 50,
     "metadata": {},
     "output_type": "execute_result"
    }
   ],
   "source": [
    "num_set.remove(3)\n",
    "num_set"
   ]
  },
  {
   "cell_type": "code",
   "execution_count": 51,
   "metadata": {},
   "outputs": [
    {
     "data": {
      "text/plain": [
       "set()"
      ]
     },
     "execution_count": 51,
     "metadata": {},
     "output_type": "execute_result"
    }
   ],
   "source": [
    "num_set.clear()\n",
    "num_set"
   ]
  },
  {
   "cell_type": "markdown",
   "metadata": {},
   "source": [
    "<table align=\"left\">\n",
    "    <tr>\n",
    "        <td width=\"6%\">\n",
    "            <img src=\"question_icon.png\">\n",
    "        </td>\n",
    "        <td>\n",
    "            <div align=\"left\", style=\"font-size:120%\">\n",
    "                <font color=\"#21618C\">\n",
    "                    <b>2. Create two sets of words from the given sentences and perform the following operations:<br><br>\n",
    "                        a. Find the count of unique words in each of the sentence<br> \n",
    "                        b. Find the common words in both the sentences<br>\n",
    "                        c. Find the unique words in both the sentences\n",
    "                       </b>\n",
    "                </font>\n",
    "            </div>\n",
    "        </td>\n",
    "    </tr>\n",
    "</table>"
   ]
  },
  {
   "cell_type": "markdown",
   "metadata": {},
   "source": [
    "**Use the sentences given below:**\n",
    "    \n",
    "sentence_1 = 'We shall analyse the data using python' \n",
    "\n",
    "sentence_2 = 'Python for data science'"
   ]
  },
  {
   "cell_type": "code",
   "execution_count": 61,
   "metadata": {},
   "outputs": [
    {
     "name": "stdout",
     "output_type": "stream",
     "text": [
      "7\n",
      "4\n",
      "{'data'}\n",
      "{'shall', 'for', 'science', 'analyse', 'python', 'Python', 'We', 'using', 'the', 'data'}\n"
     ]
    }
   ],
   "source": [
    "s1 = 'We shall analyse the data using python'\n",
    "\n",
    "s2 = 'Python for data science'\n",
    "\n",
    "x1 = set(s1.split())\n",
    "x2 = set(s2.split())\n",
    "\n",
    "u1 = len(x1)\n",
    "u2 = len(x2)\n",
    "print(u1)\n",
    "print(u2)\n",
    "print(x1.intersection(x2))\n",
    "print(x1.union(x2))"
   ]
  },
  {
   "cell_type": "markdown",
   "metadata": {},
   "source": [
    "<table align=\"left\">\n",
    "    <tr>\n",
    "        <td width=\"6%\">\n",
    "            <img src=\"question_icon.png\">\n",
    "        </td>\n",
    "        <td>\n",
    "            <div align=\"left\", style=\"font-size:120%\">\n",
    "                <font color=\"#21618C\">\n",
    "                    <b>3. Write a program to perform following set operations:<br><br>\n",
    "                        a. Union<br> \n",
    "                        b. Intersection<br>\n",
    "                        c. Set of all the elements of set A that are not in set B<br>\n",
    "                        d. Set of all the elements of set B that are not in set A<br>\n",
    "                        e. Symmetric difference\n",
    "                    </b>\n",
    "                </font>\n",
    "            </div>\n",
    "        </td>\n",
    "    </tr>\n",
    "</table>"
   ]
  },
  {
   "cell_type": "markdown",
   "metadata": {},
   "source": [
    "**Use the below set:**\n",
    "\n",
    "A = {1, 4, 5, 2, 6, 3, 40, 7, 87, 4, 71}\n",
    "\n",
    "B = {3, 42, 51, 6, 7, 8, 54, 5}"
   ]
  },
  {
   "cell_type": "code",
   "execution_count": 52,
   "metadata": {},
   "outputs": [
    {
     "name": "stdout",
     "output_type": "stream",
     "text": [
      "{1, 2, 3, 4, 5, 6, 7, 40, 71, 8, 42, 51, 54, 87}\n",
      "{3, 5, 6, 7}\n",
      "{1, 2, 4, 71, 40, 87}\n",
      "{8, 42, 51, 54}\n",
      "{1, 2, 4, 71, 8, 40, 42, 51, 54, 87}\n"
     ]
    }
   ],
   "source": [
    "A = {1, 4, 5, 2, 6, 3, 40, 7, 87, 4, 71}\n",
    "\n",
    "B = {3, 42, 51, 6, 7, 8, 54, 5}\n",
    "\n",
    "print(A.union(B))\n",
    "print(A.intersection(B))\n",
    "print(A.difference(B))\n",
    "print(B.difference(A))\n",
    "print(A.symmetric_difference(B))\n"
   ]
  },
  {
   "cell_type": "markdown",
   "metadata": {
    "id": "5dkQCFEqQB7R"
   },
   "source": [
    "<a id=\"cond\"> </a>\n",
    "## 2. Conditional Statements"
   ]
  },
  {
   "cell_type": "markdown",
   "metadata": {
    "id": "TuC6JzLsQB7S"
   },
   "source": [
    "<table align=\"left\">\n",
    "    <tr>\n",
    "        <td width=\"6%\">\n",
    "            <img src=\"question_icon.png\">\n",
    "        </td>\n",
    "        <td>\n",
    "            <div align=\"left\", style=\"font-size:120%\">\n",
    "                <font color=\"#21618C\">\n",
    "                    <b>4. Write a program to check whether a given number is multiple of 7 (use if statement)</b>\n",
    "                </font>\n",
    "            </div>\n",
    "        </td>\n",
    "    </tr>\n",
    "</table>"
   ]
  },
  {
   "cell_type": "code",
   "execution_count": 53,
   "metadata": {},
   "outputs": [
    {
     "name": "stdout",
     "output_type": "stream",
     "text": [
      "Enter the num - 67\n",
      "Not a multiple of 7\n"
     ]
    }
   ],
   "source": [
    "num = int(input(\"Enter the num - \"))\n",
    "\n",
    "if num%7==0: \n",
    "    print(\"Multiple by 7\")\n",
    "else:\n",
    "    print(\"Not a multiple of 7\")\n"
   ]
  },
  {
   "cell_type": "code",
   "execution_count": 54,
   "metadata": {},
   "outputs": [
    {
     "name": "stdout",
     "output_type": "stream",
     "text": [
      "Enter the num - 49\n",
      "Multiple by 7\n"
     ]
    }
   ],
   "source": [
    "num = int(input(\"Enter the num - \"))\n",
    "\n",
    "if num%7==0: \n",
    "    print(\"Multiple by 7\")\n",
    "else:\n",
    "    print(\"Not a multiple of 7\")\n"
   ]
  },
  {
   "cell_type": "markdown",
   "metadata": {
    "id": "XCQtcopIQB7T"
   },
   "source": [
    "<table align=\"left\">\n",
    "    <tr>\n",
    "        <td width=\"6%\">\n",
    "            <img src=\"question_icon.png\">\n",
    "        </td>\n",
    "        <td>\n",
    "            <div align=\"left\", style=\"font-size:120%\">\n",
    "                <font color=\"#21618C\">\n",
    "                    <b>5. Write a code to print the maximum of two numbers (use if-else)</b>\n",
    "                </font>\n",
    "            </div>\n",
    "        </td>\n",
    "    </tr>\n",
    "</table>"
   ]
  },
  {
   "cell_type": "code",
   "execution_count": 55,
   "metadata": {},
   "outputs": [
    {
     "name": "stdout",
     "output_type": "stream",
     "text": [
      "Enter the num1 - 2\n",
      "Enter the num2 - 5\n",
      "num2 is greater\n"
     ]
    }
   ],
   "source": [
    "num1 = int(input(\"Enter the num1 - \"))\n",
    "num2 = int(input(\"Enter the num2 - \"))\n",
    "\n",
    "if num1>num2: \n",
    "    print(\"num1 is greater\")\n",
    "else:\n",
    "    print(\"num2 is greater\")"
   ]
  },
  {
   "cell_type": "code",
   "execution_count": 57,
   "metadata": {},
   "outputs": [
    {
     "name": "stdout",
     "output_type": "stream",
     "text": [
      "Enter the num1 - 6\n",
      "Enter the num2 - 2\n",
      "num1 is greater\n"
     ]
    }
   ],
   "source": [
    "num1 = int(input(\"Enter the num1 - \"))\n",
    "num2 = int(input(\"Enter the num2 - \"))\n",
    "\n",
    "if num1>num2: \n",
    "    print(\"num1 is greater\")\n",
    "else:\n",
    "    print(\"num2 is greater\")"
   ]
  },
  {
   "cell_type": "markdown",
   "metadata": {
    "id": "HtMw173QQB7T"
   },
   "source": [
    "<table align=\"left\">\n",
    "    <tr>\n",
    "        <td width=\"6%\">\n",
    "            <img src=\"question_icon.png\">\n",
    "        </td>\n",
    "        <td>\n",
    "            <div align=\"left\", style=\"font-size:120%\">\n",
    "                <font color=\"#21618C\">\n",
    "                    <b>6. Write a program to check whether a number is positive, negative or zero (use if-elif) </b>\n",
    "                </font>\n",
    "            </div>\n",
    "        </td>\n",
    "    </tr>\n",
    "</table>"
   ]
  },
  {
   "cell_type": "code",
   "execution_count": 58,
   "metadata": {},
   "outputs": [
    {
     "name": "stdout",
     "output_type": "stream",
     "text": [
      "Enter the num - 4\n",
      "Positive\n"
     ]
    }
   ],
   "source": [
    "num = int(input(\"Enter the num - \"))\n",
    "\n",
    "if num==0:\n",
    "    print(\"Zero\")\n",
    "elif num>0:\n",
    "    print(\"Positive\")\n",
    "elif num<0:\n",
    "    print(\"Negative\")\n",
    "else:\n",
    "    print(\"Done Checking\")"
   ]
  },
  {
   "cell_type": "code",
   "execution_count": 59,
   "metadata": {},
   "outputs": [
    {
     "name": "stdout",
     "output_type": "stream",
     "text": [
      "Enter the num - -3\n",
      "Negative\n"
     ]
    }
   ],
   "source": [
    "num = int(input(\"Enter the num - \"))\n",
    "\n",
    "if num==0:\n",
    "    print(\"Zero\")\n",
    "elif num>0:\n",
    "    print(\"Positive\")\n",
    "elif num<0:\n",
    "    print(\"Negative\")\n",
    "else:\n",
    "    print(\"Done Checking\")"
   ]
  },
  {
   "cell_type": "code",
   "execution_count": 60,
   "metadata": {},
   "outputs": [
    {
     "name": "stdout",
     "output_type": "stream",
     "text": [
      "Enter the num - 0\n",
      "Zero\n"
     ]
    }
   ],
   "source": [
    "num = int(input(\"Enter the num - \"))\n",
    "\n",
    "if num==0:\n",
    "    print(\"Zero\")\n",
    "elif num>0:\n",
    "    print(\"Positive\")\n",
    "elif num<0:\n",
    "    print(\"Negative\")\n",
    "else:\n",
    "    print(\"Done Checking\")"
   ]
  },
  {
   "cell_type": "markdown",
   "metadata": {
    "id": "vys6i9wOQB7U"
   },
   "source": [
    "<a id= \"flow_control\"> </a>\n",
    "## 2. Python Flow Control"
   ]
  },
  {
   "cell_type": "markdown",
   "metadata": {
    "id": "pUR_a5a1QB7U"
   },
   "source": [
    "<table align=\"left\">\n",
    "    <tr>\n",
    "        <td width=\"6%\">\n",
    "            <img src=\"question_icon.png\">\n",
    "        </td>\n",
    "        <td>\n",
    "            <div align=\"left\", style=\"font-size:120%\">\n",
    "                <font color=\"#21618C\">\n",
    "                    <b>7. Write a program for generating a fibonacci series starting with 0 and 1 for the next 10 values using a while loop. </b>\n",
    "                </font>\n",
    "            </div>\n",
    "        </td>\n",
    "    </tr>\n",
    "</table>"
   ]
  },
  {
   "cell_type": "code",
   "execution_count": 4,
   "metadata": {},
   "outputs": [
    {
     "name": "stdout",
     "output_type": "stream",
     "text": [
      "0\n",
      "1\n",
      "1\n",
      "2\n",
      "3\n",
      "5\n",
      "8\n",
      "13\n",
      "21\n",
      "34\n",
      "55\n",
      "89\n"
     ]
    }
   ],
   "source": [
    "a = 0\n",
    "b = 1\n",
    "count = 0\n",
    "print(a)\n",
    "print(b)\n",
    "\n",
    "while count < 10:\n",
    "    c=a+b\n",
    "    print(c)\n",
    "    a = b\n",
    "    b = c\n",
    "    count += 1     "
   ]
  },
  {
   "cell_type": "markdown",
   "metadata": {
    "id": "2sFW5SK2QB7V"
   },
   "source": [
    "<table align=\"left\">\n",
    "    <tr>\n",
    "        <td width=\"6%\">\n",
    "            <img src=\"question_icon.png\">\n",
    "        </td>\n",
    "        <td>\n",
    "            <div align=\"left\", style=\"font-size:120%\">\n",
    "                <font color=\"#21618C\">\n",
    "                    <b>8. Write a code to find factorial of a number (take the input from user). </b>\n",
    "                </font>\n",
    "            </div>\n",
    "        </td>\n",
    "    </tr>\n",
    "</table>"
   ]
  },
  {
   "cell_type": "code",
   "execution_count": 2,
   "metadata": {},
   "outputs": [
    {
     "name": "stdout",
     "output_type": "stream",
     "text": [
      "Enter the number - 1\n",
      "24\n"
     ]
    }
   ],
   "source": [
    "num = int(input(\"Enter the number - \"))\n",
    "\n",
    "f = 1\n",
    "if num<0:\n",
    "    print(\"Factorial does not exist as negative num\")\n",
    "elif num==0:\n",
    "    print(1)\n",
    "else:    \n",
    "    for i in range(1,5):\n",
    "        f = f*i\n",
    "    print(f)"
   ]
  },
  {
   "cell_type": "code",
   "execution_count": 3,
   "metadata": {},
   "outputs": [
    {
     "name": "stdout",
     "output_type": "stream",
     "text": [
      "Enter the number - -3\n",
      "Factorial does not exist as negative num\n"
     ]
    }
   ],
   "source": [
    "num = int(input(\"Enter the number - \"))\n",
    "\n",
    "f = 1\n",
    "if num<0:\n",
    "    print(\"Factorial does not exist as negative num\")\n",
    "elif num==0:\n",
    "    print(1)\n",
    "else:    \n",
    "    for i in range(1,5):\n",
    "        f = f*i\n",
    "    print(f)"
   ]
  },
  {
   "cell_type": "markdown",
   "metadata": {
    "id": "wzqJtHqPQB7W"
   },
   "source": [
    "<table align=\"left\">\n",
    "    <tr>\n",
    "        <td width=\"6%\">\n",
    "            <img src=\"question_icon.png\">\n",
    "        </td>\n",
    "        <td>\n",
    "            <div align=\"left\", style=\"font-size:120%\">\n",
    "                <font color=\"#21618C\">\n",
    "                    <b>9. Write a program to check whether two numbers are amicable or not (take the input from user).</b>\n",
    "                </font>\n",
    "            </div>\n",
    "        </td>\n",
    "    </tr>\n",
    "</table>"
   ]
  },
  {
   "cell_type": "code",
   "execution_count": 66,
   "metadata": {},
   "outputs": [
    {
     "name": "stdout",
     "output_type": "stream",
     "text": [
      "Enter the number -220\n",
      "Enter the number -284\n",
      "Amicable\n"
     ]
    }
   ],
   "source": [
    "num1 = int(input(\"Enter the number -\"))\n",
    "num2 = int(input(\"Enter the number -\"))\n",
    "\n",
    "Factor_1 = []\n",
    "Factor_2 = []\n",
    "\n",
    "for i in range(1,num1):\n",
    "     if num1%i==0:\n",
    "        Factor_1.append(i)\n",
    "for j in range(1,num2):\n",
    "    if num2%j==0:\n",
    "        Factor_2.append(j)\n",
    "if num1==sum(Factor_2) and num2==sum(Factor_1):\n",
    "    print(\"Amicable\")\n",
    "else:\n",
    "    print(\"Not Amicable\")"
   ]
  },
  {
   "cell_type": "markdown",
   "metadata": {
    "id": "rDXJ8s4rQB7W"
   },
   "source": [
    "<table align=\"left\">\n",
    "    <tr>\n",
    "        <td width=\"6%\">\n",
    "            <img src=\"question_icon.png\">\n",
    "        </td>\n",
    "        <td>\n",
    "            <div align=\"left\", style=\"font-size:120%\">\n",
    "                <font color=\"#21618C\">\n",
    "                    <b>10. Reverse string using a for loop (take the input from user).</b>\n",
    "                </font>\n",
    "            </div>\n",
    "        </td>\n",
    "    </tr>\n",
    "</table>"
   ]
  },
  {
   "cell_type": "code",
   "execution_count": 75,
   "metadata": {
    "scrolled": true
   },
   "outputs": [
    {
     "name": "stdout",
     "output_type": "stream",
     "text": [
      "Enter the String - Dinesh kumar\n",
      "Reverse string =  ramuk hseniD\n"
     ]
    }
   ],
   "source": [
    "str = input(\"Enter the String - \")\n",
    "\n",
    "reverse = \"\"\n",
    "for char in str[::-1]:\n",
    "    reverse += char\n",
    "\n",
    "print(\"Reverse string = \", reverse)"
   ]
  },
  {
   "cell_type": "markdown",
   "metadata": {
    "id": "TlmyuLWAQB7X"
   },
   "source": [
    "<table align=\"left\">\n",
    "    <tr>\n",
    "        <td width=\"6%\">\n",
    "            <img src=\"question_icon.png\">\n",
    "        </td>\n",
    "        <td>\n",
    "            <div align=\"left\", style=\"font-size:120%\">\n",
    "                <font color=\"#21618C\">\n",
    "                    <b>11. Write a code to find the average of given numbers (take the input from user).</b>\n",
    "                </font>\n",
    "            </div>\n",
    "        </td>\n",
    "    </tr>\n",
    "</table>"
   ]
  },
  {
   "cell_type": "code",
   "execution_count": 80,
   "metadata": {},
   "outputs": [
    {
     "name": "stdout",
     "output_type": "stream",
     "text": [
      "Enter the number - 5\n",
      "Enter the input - 34\n",
      "Enter the input - 24\n",
      "Enter the input - 65\n",
      "Enter the input - 35\n",
      "Enter the input - 2\n",
      "Average =  32.0\n"
     ]
    }
   ],
   "source": [
    "num = int(input(\"Enter the number - \"))\n",
    "\n",
    "total_sum = 0\n",
    "for i in range(num):\n",
    "    c = int(input(\"Enter the input - \"))\n",
    "    total_sum += c\n",
    "avr = total_sum/num\n",
    "print(\"Average = \", avr)"
   ]
  }
 ],
 "metadata": {
  "colab": {
   "name": "ITP-Day 3_IC Solution.ipynb",
   "provenance": []
  },
  "kernelspec": {
   "display_name": "Python 3 (ipykernel)",
   "language": "python",
   "name": "python3"
  },
  "language_info": {
   "codemirror_mode": {
    "name": "ipython",
    "version": 3
   },
   "file_extension": ".py",
   "mimetype": "text/x-python",
   "name": "python",
   "nbconvert_exporter": "python",
   "pygments_lexer": "ipython3",
   "version": "3.10.9"
  }
 },
 "nbformat": 4,
 "nbformat_minor": 1
}
